{
 "cells": [
  {
   "cell_type": "markdown",
   "metadata": {},
   "source": [
    "The instance generator writes the SPA-ST instance in the format below. \n",
    "If you wish to parse your instance into any of the python codes in this repo,\n",
    "such instance must be represented as follows."
   ]
  },
  {
   "cell_type": "code",
   "execution_count": null,
   "metadata": {},
   "outputs": [],
   "source": [
    "\"\"\"\n",
    "For example, instances/instance1.txt\n",
    "\n",
    "10 5 2\n",
    "1 (2:4) 5 \n",
    "2 4 5 3 \n",
    "3 5 3 4 \n",
    "4 2 1 3 \n",
    "5 4 2 5 \n",
    "6 4 2 1 \n",
    "7 2 5 3 \n",
    "8 5 2 1 \n",
    "9 1 5 4 \n",
    "10 1 4 3 \n",
    "1 2 1\n",
    "2 5 1\n",
    "3 2 2\n",
    "4 1 1\n",
    "5 2 1\n",
    "1 5 2 8 3 (9:10) 1 7 5 (4:6) \n",
    "2 2 4 7 3 (2:10) \n",
    "\"\"\""
   ]
  },
  {
   "cell_type": "code",
   "execution_count": null,
   "metadata": {},
   "outputs": [],
   "source": [
    "\"\"\"\n",
    "instance1.txt above can be read as follows:\n",
    "\n",
    "10 students, 5 projects and 2 lecturers\n",
    "The next 10 lines represent the students preference information\n",
    "--- student1 is indifferent between project2 and project4; and she strictly prefers projects2&4 to project5\n",
    "---\n",
    "--- student 10 prefers project1 to project4 to project3\n",
    "The next 5 lines represent the projects information\n",
    "--- project1 has capacity 2 and is offered by lecturer1\n",
    "---\n",
    "--- project5 has capacity 2 and is offered by lecturer1\n",
    "The last 2 lines represent the lecturers preference information\n",
    "--- lecturer1 has capacity 5 and prefers student2 to student8 and so on\n",
    "--- lecturer2 has capacity 2 and prefers student4 to student7 and so on, and she is indifferent between students2&10\n",
    "\"\"\"\n"
   ]
  }
 ],
 "metadata": {
  "kernelspec": {
   "display_name": "Python 3",
   "language": "python",
   "name": "python3"
  },
  "language_info": {
   "codemirror_mode": {
    "name": "ipython",
    "version": 3
   },
   "file_extension": ".py",
   "mimetype": "text/x-python",
   "name": "python",
   "nbconvert_exporter": "python",
   "pygments_lexer": "ipython3",
   "version": "3.7.6"
  }
 },
 "nbformat": 4,
 "nbformat_minor": 4
}
