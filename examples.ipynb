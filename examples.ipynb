{
 "cells": [
  {
   "cell_type": "markdown",
   "metadata": {},
   "source": [
    "The instance generator writes the SPA-ST instance in the format below. \n",
    "If you wish to parse your instance into any of the python codes in this repo,\n",
    "such instance must be represented as follows."
   ]
  },
  {
   "cell_type": "markdown",
   "metadata": {},
   "source": [
    "#### For example, instances/instance1.txt\n",
    "\n",
    "10 5 2\n",
    "\n",
    "1 (2:4) 5 \n",
    "\n",
    "2 4 5 3 \n",
    "\n",
    "3 5 3 4 \n",
    "\n",
    "4 2 1 3 \n",
    "\n",
    "5 4 2 5 \n",
    "\n",
    "6 4 2 1 \n",
    "\n",
    "7 2 5 3 \n",
    "\n",
    "8 5 2 1 \n",
    "\n",
    "9 1 5 4 \n",
    "\n",
    "10 1 4 3 \n",
    "\n",
    "1 2 1\n",
    "\n",
    "2 5 1\n",
    "\n",
    "3 2 2\n",
    "\n",
    "4 1 1\n",
    "\n",
    "5 2 1\n",
    "\n",
    "1 5 2 8 3 (9:10) 1 7 5 (4:6) \n",
    "\n",
    "2 2 4 7 3 (2:10) \n"
   ]
  },
  {
   "cell_type": "markdown",
   "metadata": {},
   "source": [
    "### The instance above can be read as follows:\n",
    "\n",
    "10 students, 5 projects and 2 lecturers\n",
    "\n",
    "The next 10 lines represent the students preference information\n",
    "\n",
    "> student1 is indifferent between project2 and project4; and she strictly prefers projects2&4 to project5\n",
    "\n",
    ">\n",
    "\n",
    "> student 10 prefers project1 to project4 to project3\n",
    "\n",
    "The next 5 lines represent the projects information\n",
    "\n",
    "> project1 has capacity 2 and is offered by lecturer1\n",
    "\n",
    ">\n",
    "\n",
    "> project5 has capacity 2 and is offered by lecturer1\n",
    "\n",
    "The last 2 lines represent the lecturers preference information\n",
    "\n",
    "> lecturer1 has capacity 5 and prefers student2 to student8 and so on\n",
    "\n",
    "> lecturer2 has capacity 2 and prefers student4 to student7 and so on, and she is indifferent between students2&10\n",
    "\n"
   ]
  },
  {
   "cell_type": "markdown",
   "metadata": {},
   "source": [
    "### In the following cells, we illustrate how to run the python files in this repo"
   ]
  },
  {
   "cell_type": "code",
   "execution_count": 1,
   "metadata": {},
   "outputs": [
    {
     "name": "stdout",
     "output_type": "stream",
     "text": [
      "The student-optimal super-stable matching is:  \n",
      " {'s2': {'p4'}, 's3': {'p5'}, 's4': {'p3'}, 's7': {'p3'}, 's8': {'p5'}, 's9': {'p1'}, 's10': {'p1'}}\n"
     ]
    }
   ],
   "source": [
    "# how to run the polynomial-time algorithm\n",
    "\n",
    "from spastsuper import SuperPoly\n",
    "         \n",
    "\n",
    "filename = \"instances/instance1.txt\"\n",
    "S = SuperPoly(filename)    \n",
    "found_susm = S.run()\n",
    "if found_susm ==\"N\":\n",
    "    print('The instance admits no super-stable matching')\n",
    "else:\n",
    "    print('The student-optimal super-stable matching is: ', \"\\n\", S.susm)\n",
    "    "
   ]
  },
  {
   "cell_type": "code",
   "execution_count": 7,
   "metadata": {},
   "outputs": [
    {
     "name": "stdout",
     "output_type": "stream",
     "text": [
      "The instance admits no super-stable matching\n"
     ]
    }
   ],
   "source": [
    "# how to run the polynomial-time algorithm\n",
    "\n",
    "from spastsuper import SuperPoly\n",
    "         \n",
    "\n",
    "filename = \"instances/instance5.txt\"\n",
    "S = SuperPoly(filename)    \n",
    "found_susm = S.run()\n",
    "if found_susm ==\"N\":\n",
    "    print('The instance admits no super-stable matching')\n",
    "else:\n",
    "    print('The student-optimal super-stable matching is: ', \"\\n\", S.susm)\n",
    "    "
   ]
  },
  {
   "cell_type": "code",
   "execution_count": 8,
   "metadata": {},
   "outputs": [
    {
     "name": "stdout",
     "output_type": "stream",
     "text": [
      "The instance admits the following super-stable matching(s):\n",
      "{'s1': '', 's2': 'p4', 's3': 'p5', 's4': 'p3', 's5': '', 's6': '', 's7': 'p3', 's8': 'p5', 's9': 'p1', 's10': 'p1'}\n"
     ]
    }
   ],
   "source": [
    "# how to run the brute-force algorithm\n",
    "\n",
    "from bruteforce import SuperBruteForce\n",
    "\n",
    "    \n",
    "filename = \"instances/instance1.txt\"\n",
    "B = SuperBruteForce(filename)\n",
    "found_susm, all_susm = B.choose(1)\n",
    "if found_susm == \"N\":\n",
    "    print('The instance admits no super-stable matching')\n",
    "else:    \n",
    "    print('The instance admits the following super-stable matching(s):')\n",
    "    for susm in all_susm:\n",
    "        print(susm)"
   ]
  },
  {
   "cell_type": "code",
   "execution_count": 9,
   "metadata": {},
   "outputs": [
    {
     "name": "stdout",
     "output_type": "stream",
     "text": [
      "The instance admits no super-stable matching\n"
     ]
    }
   ],
   "source": [
    "from bruteforce import SuperBruteForce\n",
    "\n",
    "    \n",
    "filename = \"instances/instance5.txt\"\n",
    "B = SuperBruteForce(filename)\n",
    "found_susm, all_susm = B.choose(1)\n",
    "if found_susm == \"N\":\n",
    "    print('The instance admits no super-stable matching')\n",
    "else:    \n",
    "    print('The instance admits the following super-stable matching(s):')\n",
    "    for susm in all_susm:\n",
    "        print(susm)"
   ]
  },
  {
   "cell_type": "code",
   "execution_count": null,
   "metadata": {},
   "outputs": [],
   "source": []
  }
 ],
 "metadata": {
  "kernelspec": {
   "display_name": "Python 3",
   "language": "python",
   "name": "python3"
  },
  "language_info": {
   "codemirror_mode": {
    "name": "ipython",
    "version": 3
   },
   "file_extension": ".py",
   "mimetype": "text/x-python",
   "name": "python",
   "nbconvert_exporter": "python",
   "pygments_lexer": "ipython3",
   "version": "3.7.6"
  }
 },
 "nbformat": 4,
 "nbformat_minor": 4
}
